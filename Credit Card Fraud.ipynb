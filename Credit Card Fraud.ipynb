{
 "cells": [
  {
   "cell_type": "markdown",
   "metadata": {},
   "source": [
    "# Imports and Functions"
   ]
  },
  {
   "cell_type": "code",
   "execution_count": 32,
   "metadata": {
    "ExecuteTime": {
     "end_time": "2019-11-09T17:04:20.443689Z",
     "start_time": "2019-11-09T17:04:20.439406Z"
    }
   },
   "outputs": [],
   "source": [
    "import pandas as pd\n",
    "import numpy as np\n",
    "import matplotlib.pyplot as plt\n",
    "import seaborn as sns\n",
    "from sklearn.preprocessing import StandardScaler\n",
    "from imblearn.datasets import make_imbalance\n",
    "from sklearn.model_selection import train_test_split"
   ]
  },
  {
   "cell_type": "markdown",
   "metadata": {},
   "source": [
    "# Data and EDA"
   ]
  },
  {
   "cell_type": "code",
   "execution_count": 7,
   "metadata": {
    "ExecuteTime": {
     "end_time": "2019-11-09T16:38:31.716109Z",
     "start_time": "2019-11-09T16:38:28.390933Z"
    }
   },
   "outputs": [],
   "source": [
    "# The data has already been \n",
    "credit = pd.read_csv('/Users/Leo/leoloman_github/leoloman_github/creditcard.csv')"
   ]
  },
  {
   "cell_type": "code",
   "execution_count": 8,
   "metadata": {
    "ExecuteTime": {
     "end_time": "2019-11-09T16:38:32.507524Z",
     "start_time": "2019-11-09T16:38:32.501351Z"
    }
   },
   "outputs": [
    {
     "name": "stdout",
     "output_type": "stream",
     "text": [
      "This dataframe consists of 284807 rows and 31 columns\n"
     ]
    }
   ],
   "source": [
    "print('This dataframe consists of {} rows and {} columns'.format(credit.shape[0],credit.shape[1]))"
   ]
  },
  {
   "cell_type": "code",
   "execution_count": 9,
   "metadata": {
    "ExecuteTime": {
     "end_time": "2019-11-09T16:38:32.978581Z",
     "start_time": "2019-11-09T16:38:32.973483Z"
    }
   },
   "outputs": [],
   "source": [
    "data_dict = {'Time':'Number of seconds elapsed between this transaction and the first transaction in the dataset, this is over the course of a 2 day period',\n",
    "            'V1-V28':'PCA Treated Columns',\n",
    "            'Amount':'Transaction Amount',\n",
    "            'Class':'1 for Fraudulent and 0 for otherwise'}"
   ]
  },
  {
   "cell_type": "code",
   "execution_count": 10,
   "metadata": {
    "ExecuteTime": {
     "end_time": "2019-11-09T16:38:34.043708Z",
     "start_time": "2019-11-09T16:38:34.005796Z"
    }
   },
   "outputs": [
    {
     "data": {
      "text/html": [
       "<div>\n",
       "<style scoped>\n",
       "    .dataframe tbody tr th:only-of-type {\n",
       "        vertical-align: middle;\n",
       "    }\n",
       "\n",
       "    .dataframe tbody tr th {\n",
       "        vertical-align: top;\n",
       "    }\n",
       "\n",
       "    .dataframe thead th {\n",
       "        text-align: right;\n",
       "    }\n",
       "</style>\n",
       "<table border=\"1\" class=\"dataframe\">\n",
       "  <thead>\n",
       "    <tr style=\"text-align: right;\">\n",
       "      <th></th>\n",
       "      <th>Time</th>\n",
       "      <th>V1</th>\n",
       "      <th>V2</th>\n",
       "      <th>V3</th>\n",
       "      <th>V4</th>\n",
       "      <th>V5</th>\n",
       "      <th>V6</th>\n",
       "      <th>V7</th>\n",
       "      <th>V8</th>\n",
       "      <th>V9</th>\n",
       "      <th>...</th>\n",
       "      <th>V21</th>\n",
       "      <th>V22</th>\n",
       "      <th>V23</th>\n",
       "      <th>V24</th>\n",
       "      <th>V25</th>\n",
       "      <th>V26</th>\n",
       "      <th>V27</th>\n",
       "      <th>V28</th>\n",
       "      <th>Amount</th>\n",
       "      <th>Class</th>\n",
       "    </tr>\n",
       "  </thead>\n",
       "  <tbody>\n",
       "    <tr>\n",
       "      <th>0</th>\n",
       "      <td>0.0</td>\n",
       "      <td>-1.359807</td>\n",
       "      <td>-0.072781</td>\n",
       "      <td>2.536347</td>\n",
       "      <td>1.378155</td>\n",
       "      <td>-0.338321</td>\n",
       "      <td>0.462388</td>\n",
       "      <td>0.239599</td>\n",
       "      <td>0.098698</td>\n",
       "      <td>0.363787</td>\n",
       "      <td>...</td>\n",
       "      <td>-0.018307</td>\n",
       "      <td>0.277838</td>\n",
       "      <td>-0.110474</td>\n",
       "      <td>0.066928</td>\n",
       "      <td>0.128539</td>\n",
       "      <td>-0.189115</td>\n",
       "      <td>0.133558</td>\n",
       "      <td>-0.021053</td>\n",
       "      <td>149.62</td>\n",
       "      <td>0</td>\n",
       "    </tr>\n",
       "    <tr>\n",
       "      <th>1</th>\n",
       "      <td>0.0</td>\n",
       "      <td>1.191857</td>\n",
       "      <td>0.266151</td>\n",
       "      <td>0.166480</td>\n",
       "      <td>0.448154</td>\n",
       "      <td>0.060018</td>\n",
       "      <td>-0.082361</td>\n",
       "      <td>-0.078803</td>\n",
       "      <td>0.085102</td>\n",
       "      <td>-0.255425</td>\n",
       "      <td>...</td>\n",
       "      <td>-0.225775</td>\n",
       "      <td>-0.638672</td>\n",
       "      <td>0.101288</td>\n",
       "      <td>-0.339846</td>\n",
       "      <td>0.167170</td>\n",
       "      <td>0.125895</td>\n",
       "      <td>-0.008983</td>\n",
       "      <td>0.014724</td>\n",
       "      <td>2.69</td>\n",
       "      <td>0</td>\n",
       "    </tr>\n",
       "    <tr>\n",
       "      <th>2</th>\n",
       "      <td>1.0</td>\n",
       "      <td>-1.358354</td>\n",
       "      <td>-1.340163</td>\n",
       "      <td>1.773209</td>\n",
       "      <td>0.379780</td>\n",
       "      <td>-0.503198</td>\n",
       "      <td>1.800499</td>\n",
       "      <td>0.791461</td>\n",
       "      <td>0.247676</td>\n",
       "      <td>-1.514654</td>\n",
       "      <td>...</td>\n",
       "      <td>0.247998</td>\n",
       "      <td>0.771679</td>\n",
       "      <td>0.909412</td>\n",
       "      <td>-0.689281</td>\n",
       "      <td>-0.327642</td>\n",
       "      <td>-0.139097</td>\n",
       "      <td>-0.055353</td>\n",
       "      <td>-0.059752</td>\n",
       "      <td>378.66</td>\n",
       "      <td>0</td>\n",
       "    </tr>\n",
       "    <tr>\n",
       "      <th>3</th>\n",
       "      <td>1.0</td>\n",
       "      <td>-0.966272</td>\n",
       "      <td>-0.185226</td>\n",
       "      <td>1.792993</td>\n",
       "      <td>-0.863291</td>\n",
       "      <td>-0.010309</td>\n",
       "      <td>1.247203</td>\n",
       "      <td>0.237609</td>\n",
       "      <td>0.377436</td>\n",
       "      <td>-1.387024</td>\n",
       "      <td>...</td>\n",
       "      <td>-0.108300</td>\n",
       "      <td>0.005274</td>\n",
       "      <td>-0.190321</td>\n",
       "      <td>-1.175575</td>\n",
       "      <td>0.647376</td>\n",
       "      <td>-0.221929</td>\n",
       "      <td>0.062723</td>\n",
       "      <td>0.061458</td>\n",
       "      <td>123.50</td>\n",
       "      <td>0</td>\n",
       "    </tr>\n",
       "    <tr>\n",
       "      <th>4</th>\n",
       "      <td>2.0</td>\n",
       "      <td>-1.158233</td>\n",
       "      <td>0.877737</td>\n",
       "      <td>1.548718</td>\n",
       "      <td>0.403034</td>\n",
       "      <td>-0.407193</td>\n",
       "      <td>0.095921</td>\n",
       "      <td>0.592941</td>\n",
       "      <td>-0.270533</td>\n",
       "      <td>0.817739</td>\n",
       "      <td>...</td>\n",
       "      <td>-0.009431</td>\n",
       "      <td>0.798278</td>\n",
       "      <td>-0.137458</td>\n",
       "      <td>0.141267</td>\n",
       "      <td>-0.206010</td>\n",
       "      <td>0.502292</td>\n",
       "      <td>0.219422</td>\n",
       "      <td>0.215153</td>\n",
       "      <td>69.99</td>\n",
       "      <td>0</td>\n",
       "    </tr>\n",
       "  </tbody>\n",
       "</table>\n",
       "<p>5 rows × 31 columns</p>\n",
       "</div>"
      ],
      "text/plain": [
       "   Time        V1        V2        V3        V4        V5        V6        V7  \\\n",
       "0   0.0 -1.359807 -0.072781  2.536347  1.378155 -0.338321  0.462388  0.239599   \n",
       "1   0.0  1.191857  0.266151  0.166480  0.448154  0.060018 -0.082361 -0.078803   \n",
       "2   1.0 -1.358354 -1.340163  1.773209  0.379780 -0.503198  1.800499  0.791461   \n",
       "3   1.0 -0.966272 -0.185226  1.792993 -0.863291 -0.010309  1.247203  0.237609   \n",
       "4   2.0 -1.158233  0.877737  1.548718  0.403034 -0.407193  0.095921  0.592941   \n",
       "\n",
       "         V8        V9  ...         V21       V22       V23       V24  \\\n",
       "0  0.098698  0.363787  ...   -0.018307  0.277838 -0.110474  0.066928   \n",
       "1  0.085102 -0.255425  ...   -0.225775 -0.638672  0.101288 -0.339846   \n",
       "2  0.247676 -1.514654  ...    0.247998  0.771679  0.909412 -0.689281   \n",
       "3  0.377436 -1.387024  ...   -0.108300  0.005274 -0.190321 -1.175575   \n",
       "4 -0.270533  0.817739  ...   -0.009431  0.798278 -0.137458  0.141267   \n",
       "\n",
       "        V25       V26       V27       V28  Amount  Class  \n",
       "0  0.128539 -0.189115  0.133558 -0.021053  149.62      0  \n",
       "1  0.167170  0.125895 -0.008983  0.014724    2.69      0  \n",
       "2 -0.327642 -0.139097 -0.055353 -0.059752  378.66      0  \n",
       "3  0.647376 -0.221929  0.062723  0.061458  123.50      0  \n",
       "4 -0.206010  0.502292  0.219422  0.215153   69.99      0  \n",
       "\n",
       "[5 rows x 31 columns]"
      ]
     },
     "execution_count": 10,
     "metadata": {},
     "output_type": "execute_result"
    }
   ],
   "source": [
    "credit.head()"
   ]
  },
  {
   "cell_type": "code",
   "execution_count": 11,
   "metadata": {
    "ExecuteTime": {
     "end_time": "2019-11-09T16:38:35.592853Z",
     "start_time": "2019-11-09T16:38:35.417411Z"
    }
   },
   "outputs": [
    {
     "name": "stdout",
     "output_type": "stream",
     "text": [
      "<class 'pandas.core.frame.DataFrame'>\n",
      "RangeIndex: 284807 entries, 0 to 284806\n",
      "Data columns (total 31 columns):\n",
      "Time      284807 non-null float64\n",
      "V1        284807 non-null float64\n",
      "V2        284807 non-null float64\n",
      "V3        284807 non-null float64\n",
      "V4        284807 non-null float64\n",
      "V5        284807 non-null float64\n",
      "V6        284807 non-null float64\n",
      "V7        284807 non-null float64\n",
      "V8        284807 non-null float64\n",
      "V9        284807 non-null float64\n",
      "V10       284807 non-null float64\n",
      "V11       284807 non-null float64\n",
      "V12       284807 non-null float64\n",
      "V13       284807 non-null float64\n",
      "V14       284807 non-null float64\n",
      "V15       284807 non-null float64\n",
      "V16       284807 non-null float64\n",
      "V17       284807 non-null float64\n",
      "V18       284807 non-null float64\n",
      "V19       284807 non-null float64\n",
      "V20       284807 non-null float64\n",
      "V21       284807 non-null float64\n",
      "V22       284807 non-null float64\n",
      "V23       284807 non-null float64\n",
      "V24       284807 non-null float64\n",
      "V25       284807 non-null float64\n",
      "V26       284807 non-null float64\n",
      "V27       284807 non-null float64\n",
      "V28       284807 non-null float64\n",
      "Amount    284807 non-null float64\n",
      "Class     284807 non-null int64\n",
      "dtypes: float64(30), int64(1)\n",
      "memory usage: 67.4 MB\n"
     ]
    }
   ],
   "source": [
    "# Columns V1 to V31 are principal components obtained through PCA, Time, Amount and Class are as they \n",
    "# Originally were.\n",
    "credit.info()"
   ]
  },
  {
   "cell_type": "code",
   "execution_count": 12,
   "metadata": {
    "ExecuteTime": {
     "end_time": "2019-11-09T16:38:36.639809Z",
     "start_time": "2019-11-09T16:38:36.634606Z"
    }
   },
   "outputs": [],
   "source": [
    "# Since a the majority of the features have been anonymised I will focus on Time and Amount first and \n",
    "# see how they are classed and then investigate the dataset as a whole"
   ]
  },
  {
   "cell_type": "code",
   "execution_count": 13,
   "metadata": {
    "ExecuteTime": {
     "end_time": "2019-11-09T16:38:36.903420Z",
     "start_time": "2019-11-09T16:38:36.816213Z"
    }
   },
   "outputs": [
    {
     "data": {
      "text/html": [
       "<div>\n",
       "<style scoped>\n",
       "    .dataframe tbody tr th:only-of-type {\n",
       "        vertical-align: middle;\n",
       "    }\n",
       "\n",
       "    .dataframe tbody tr th {\n",
       "        vertical-align: top;\n",
       "    }\n",
       "\n",
       "    .dataframe thead th {\n",
       "        text-align: right;\n",
       "    }\n",
       "</style>\n",
       "<table border=\"1\" class=\"dataframe\">\n",
       "  <thead>\n",
       "    <tr style=\"text-align: right;\">\n",
       "      <th></th>\n",
       "      <th>Time</th>\n",
       "      <th>Amount</th>\n",
       "    </tr>\n",
       "  </thead>\n",
       "  <tbody>\n",
       "    <tr>\n",
       "      <th>count</th>\n",
       "      <td>284807.000000</td>\n",
       "      <td>284807.000000</td>\n",
       "    </tr>\n",
       "    <tr>\n",
       "      <th>mean</th>\n",
       "      <td>94813.859575</td>\n",
       "      <td>88.349619</td>\n",
       "    </tr>\n",
       "    <tr>\n",
       "      <th>std</th>\n",
       "      <td>47488.145955</td>\n",
       "      <td>250.120109</td>\n",
       "    </tr>\n",
       "    <tr>\n",
       "      <th>min</th>\n",
       "      <td>0.000000</td>\n",
       "      <td>0.000000</td>\n",
       "    </tr>\n",
       "    <tr>\n",
       "      <th>25%</th>\n",
       "      <td>54201.500000</td>\n",
       "      <td>5.600000</td>\n",
       "    </tr>\n",
       "    <tr>\n",
       "      <th>50%</th>\n",
       "      <td>84692.000000</td>\n",
       "      <td>22.000000</td>\n",
       "    </tr>\n",
       "    <tr>\n",
       "      <th>75%</th>\n",
       "      <td>139320.500000</td>\n",
       "      <td>77.165000</td>\n",
       "    </tr>\n",
       "    <tr>\n",
       "      <th>max</th>\n",
       "      <td>172792.000000</td>\n",
       "      <td>25691.160000</td>\n",
       "    </tr>\n",
       "  </tbody>\n",
       "</table>\n",
       "</div>"
      ],
      "text/plain": [
       "                Time         Amount\n",
       "count  284807.000000  284807.000000\n",
       "mean    94813.859575      88.349619\n",
       "std     47488.145955     250.120109\n",
       "min         0.000000       0.000000\n",
       "25%     54201.500000       5.600000\n",
       "50%     84692.000000      22.000000\n",
       "75%    139320.500000      77.165000\n",
       "max    172792.000000   25691.160000"
      ]
     },
     "execution_count": 13,
     "metadata": {},
     "output_type": "execute_result"
    }
   ],
   "source": [
    "# Hav\n",
    "credit.loc[:,['Time','Amount']].describe()"
   ]
  },
  {
   "cell_type": "code",
   "execution_count": 14,
   "metadata": {
    "ExecuteTime": {
     "end_time": "2019-11-09T16:38:37.528517Z",
     "start_time": "2019-11-09T16:38:37.020706Z"
    }
   },
   "outputs": [
    {
     "name": "stderr",
     "output_type": "stream",
     "text": [
      "/anaconda3/lib/python3.7/site-packages/scipy/stats/stats.py:1713: FutureWarning: Using a non-tuple sequence for multidimensional indexing is deprecated; use `arr[tuple(seq)]` instead of `arr[seq]`. In the future this will be interpreted as an array index, `arr[np.array(seq)]`, which will result either in an error or a different result.\n",
      "  return np.add.reduce(sorted[indexer] * weights, axis=axis) / sumval\n"
     ]
    },
    {
     "data": {
      "image/png": "[encoded data removed]",
      "text/plain": [
       "<Figure size 720x576 with 1 Axes>"
      ]
     },
     "metadata": {
      "needs_background": "light"
     },
     "output_type": "display_data"
    }
   ],
   "source": [
    "plt.figure(figsize=(10,8))\n",
    "sns.distplot(credit.loc[:,['Time']])\n",
    "plt.title('Distrubution of Time')\n",
    "plt.show()\n",
    "# From this you can see a night time period where less transactions are taking place"
   ]
  },
  {
   "cell_type": "code",
   "execution_count": 15,
   "metadata": {
    "ExecuteTime": {
     "end_time": "2019-11-09T16:38:38.523919Z",
     "start_time": "2019-11-09T16:38:38.089572Z"
    }
   },
   "outputs": [
    {
     "data": {
      "image/png": "[encoded data removed]",
      "text/plain": [
       "<Figure size 720x720 with 1 Axes>"
      ]
     },
     "metadata": {
      "needs_background": "light"
     },
     "output_type": "display_data"
    }
   ],
   "source": [
    "plt.figure(figsize=(10,10))\n",
    "sns.distplot(credit.loc[:,['Amount']])\n",
    "plt.title('Distrubution of Amount')\n",
    "plt.show()\n",
    "# The mean amount spent is $88.4,the max spent is $25,691 and 75% of the data is underneath $77.2. \n",
    "# This tells me that the data is heavily skewed to the right."
   ]
  },
  {
   "cell_type": "code",
   "execution_count": 16,
   "metadata": {
    "ExecuteTime": {
     "end_time": "2019-11-09T16:38:39.108640Z",
     "start_time": "2019-11-09T16:38:39.098724Z"
    }
   },
   "outputs": [],
   "source": [
    "time_amount = credit.loc[:,['Time','Amount','Class']]"
   ]
  },
  {
   "cell_type": "code",
   "execution_count": 17,
   "metadata": {
    "ExecuteTime": {
     "end_time": "2019-11-09T16:38:54.212049Z",
     "start_time": "2019-11-09T16:38:39.302756Z"
    },
    "scrolled": true
   },
   "outputs": [
    {
     "data": {
      "text/plain": [
       "<matplotlib.collections.PathCollection at 0x1a20990f60>"
      ]
     },
     "execution_count": 17,
     "metadata": {},
     "output_type": "execute_result"
    },
    {
     "data": {
      "image/png": "[encoded data removed]",
      "text/plain": [
       "<Figure size 432x288 with 1 Axes>"
      ]
     },
     "metadata": {
      "needs_background": "light"
     },
     "output_type": "display_data"
    }
   ],
   "source": [
    "plt.scatter(time_amount.Time, time_amount.Amount, c=time_amount.Class)"
   ]
  },
  {
   "cell_type": "code",
   "execution_count": 18,
   "metadata": {
    "ExecuteTime": {
     "end_time": "2019-11-09T16:38:54.222207Z",
     "start_time": "2019-11-09T16:38:54.215787Z"
    }
   },
   "outputs": [],
   "source": [
    "fraud = time_amount[time_amount.Class == 1]"
   ]
  },
  {
   "cell_type": "code",
   "execution_count": 19,
   "metadata": {
    "ExecuteTime": {
     "end_time": "2019-11-09T16:38:54.251734Z",
     "start_time": "2019-11-09T16:38:54.227580Z"
    }
   },
   "outputs": [],
   "source": [
    "true = time_amount[time_amount.Class == 0]"
   ]
  },
  {
   "cell_type": "code",
   "execution_count": 20,
   "metadata": {
    "ExecuteTime": {
     "end_time": "2019-11-09T16:39:01.223977Z",
     "start_time": "2019-11-09T16:38:54.256567Z"
    }
   },
   "outputs": [
    {
     "data": {
      "text/plain": [
       "<function matplotlib.pyplot.show(*args, **kw)>"
      ]
     },
     "execution_count": 20,
     "metadata": {},
     "output_type": "execute_result"
    },
    {
     "data": {
      "image/png": "[encoded data removed]",
      "text/plain": [
       "<Figure size 720x360 with 1 Axes>"
      ]
     },
     "metadata": {
      "needs_background": "light"
     },
     "output_type": "display_data"
    }
   ],
   "source": [
    "fig,ax = plt.subplots(figsize=(10,5))\n",
    "true.plot(x='Time',y='Amount',kind='scatter', ax=ax, c='blue',alpha=.1)\n",
    "fraud.plot(x='Time',y='Amount',kind='scatter', ax=ax, c='red')\n",
    "plt.legend(['Blue:True','Red: Fraud']);\n",
    "plt.title('Scatter graph of Fraudulent purchases super imposed over True purchases')\n",
    "plt.show"
   ]
  },
  {
   "cell_type": "code",
   "execution_count": 21,
   "metadata": {
    "ExecuteTime": {
     "end_time": "2019-11-09T16:39:01.259181Z",
     "start_time": "2019-11-09T16:39:01.229061Z"
    }
   },
   "outputs": [
    {
     "data": {
      "text/plain": [
       "count     492.000000\n",
       "mean      122.211321\n",
       "std       256.683288\n",
       "min         0.000000\n",
       "25%         1.000000\n",
       "50%         9.250000\n",
       "75%       105.890000\n",
       "max      2125.870000\n",
       "Name: Amount, dtype: float64"
      ]
     },
     "execution_count": 21,
     "metadata": {},
     "output_type": "execute_result"
    }
   ],
   "source": [
    "fraud.describe()['Amount']"
   ]
  },
  {
   "cell_type": "code",
   "execution_count": 22,
   "metadata": {
    "ExecuteTime": {
     "end_time": "2019-11-09T16:39:01.337292Z",
     "start_time": "2019-11-09T16:39:01.262525Z"
    }
   },
   "outputs": [
    {
     "data": {
      "text/plain": [
       "count    284315.000000\n",
       "mean         88.291022\n",
       "std         250.105092\n",
       "min           0.000000\n",
       "25%           5.650000\n",
       "50%          22.000000\n",
       "75%          77.050000\n",
       "max       25691.160000\n",
       "Name: Amount, dtype: float64"
      ]
     },
     "execution_count": 22,
     "metadata": {},
     "output_type": "execute_result"
    }
   ],
   "source": [
    "true.describe()['Amount']"
   ]
  },
  {
   "cell_type": "code",
   "execution_count": 23,
   "metadata": {
    "ExecuteTime": {
     "end_time": "2019-11-09T16:39:01.347120Z",
     "start_time": "2019-11-09T16:39:01.339637Z"
    }
   },
   "outputs": [],
   "source": [
    "# We can see that a large majority of the data is extremely small, and that there is an extremely small\n",
    "# amount of fraudulent transactions (0.17%)."
   ]
  },
  {
   "cell_type": "code",
   "execution_count": 24,
   "metadata": {
    "ExecuteTime": {
     "end_time": "2019-11-09T16:39:01.533519Z",
     "start_time": "2019-11-09T16:39:01.358470Z"
    }
   },
   "outputs": [
    {
     "data": {
      "image/png": "[encoded data removed]",
      "text/plain": [
       "<Figure size 432x288 with 1 Axes>"
      ]
     },
     "metadata": {
      "needs_background": "light"
     },
     "output_type": "display_data"
    }
   ],
   "source": [
    "#{'True':284315,'Fraud':492}\n",
    "true_fraud = pd.DataFrame([[284315,492]],columns=['True','Fraud'])\n",
    "true_fraud.plot(kind='bar')\n",
    "plt.title('True Purchases against Fraudlent ')\n",
    "plt.ylabel('Amount of transactions')\n",
    "plt.xlabel('Type of Purchase')\n",
    "plt.show()"
   ]
  },
  {
   "cell_type": "code",
   "execution_count": 25,
   "metadata": {
    "ExecuteTime": {
     "end_time": "2019-11-09T16:39:02.448048Z",
     "start_time": "2019-11-09T16:39:01.536045Z"
    }
   },
   "outputs": [
    {
     "data": {
      "image/png": "[encoded data removed]",
      "text/plain": [
       "<Figure size 720x504 with 2 Axes>"
      ]
     },
     "metadata": {
      "needs_background": "light"
     },
     "output_type": "display_data"
    }
   ],
   "source": [
    "# Heat map showing the correlation between the variables\n",
    "plt.figure(figsize=(10,7))\n",
    "sns.heatmap(credit.corr())\n",
    "plt.show()"
   ]
  },
  {
   "cell_type": "markdown",
   "metadata": {},
   "source": [
    "## Preparing the Time and Amount"
   ]
  },
  {
   "cell_type": "code",
   "execution_count": 26,
   "metadata": {
    "ExecuteTime": {
     "end_time": "2019-11-09T16:39:02.457053Z",
     "start_time": "2019-11-09T16:39:02.450868Z"
    }
   },
   "outputs": [],
   "source": [
    "# The Time and Amount Variables must be standardised so they are around 0, this is because all of\n",
    "# the rest of the data is centred around 0 and it could cause some issues with ML algorithms."
   ]
  },
  {
   "cell_type": "code",
   "execution_count": 27,
   "metadata": {
    "ExecuteTime": {
     "end_time": "2019-11-09T16:39:02.491858Z",
     "start_time": "2019-11-09T16:39:02.461547Z"
    }
   },
   "outputs": [],
   "source": [
    "scaler1 = StandardScaler()\n",
    "scaler2 = StandardScaler()\n",
    "time_std = scaler1.fit_transform(credit[['Time']])\n",
    "amount_std = scaler2.fit_transform(credit[['Amount']])"
   ]
  },
  {
   "cell_type": "code",
   "execution_count": 28,
   "metadata": {
    "ExecuteTime": {
     "end_time": "2019-11-09T16:39:02.507156Z",
     "start_time": "2019-11-09T16:39:02.493743Z"
    }
   },
   "outputs": [],
   "source": [
    "std_date_time = pd.DataFrame({'Time':time_std.flatten(),'Amount':amount_std.flatten()})"
   ]
  },
  {
   "cell_type": "code",
   "execution_count": 29,
   "metadata": {
    "ExecuteTime": {
     "end_time": "2019-11-09T16:39:02.531650Z",
     "start_time": "2019-11-09T16:39:02.509251Z"
    }
   },
   "outputs": [],
   "source": [
    "# dropping old amount and time columns\n",
    "credit_v2 = credit.drop(['Amount', 'Time'], axis=1,)"
   ]
  },
  {
   "cell_type": "code",
   "execution_count": 30,
   "metadata": {
    "ExecuteTime": {
     "end_time": "2019-11-09T16:39:02.575290Z",
     "start_time": "2019-11-09T16:39:02.538183Z"
    }
   },
   "outputs": [],
   "source": [
    "credit_v3 = pd.concat([credit_v2,std_date_time], axis=1)"
   ]
  },
  {
   "cell_type": "code",
   "execution_count": 31,
   "metadata": {
    "ExecuteTime": {
     "end_time": "2019-11-09T16:39:02.605148Z",
     "start_time": "2019-11-09T16:39:02.577076Z"
    }
   },
   "outputs": [
    {
     "data": {
      "text/html": [
       "<div>\n",
       "<style scoped>\n",
       "    .dataframe tbody tr th:only-of-type {\n",
       "        vertical-align: middle;\n",
       "    }\n",
       "\n",
       "    .dataframe tbody tr th {\n",
       "        vertical-align: top;\n",
       "    }\n",
       "\n",
       "    .dataframe thead th {\n",
       "        text-align: right;\n",
       "    }\n",
       "</style>\n",
       "<table border=\"1\" class=\"dataframe\">\n",
       "  <thead>\n",
       "    <tr style=\"text-align: right;\">\n",
       "      <th></th>\n",
       "      <th>V1</th>\n",
       "      <th>V2</th>\n",
       "      <th>V3</th>\n",
       "      <th>V4</th>\n",
       "      <th>V5</th>\n",
       "      <th>V6</th>\n",
       "      <th>V7</th>\n",
       "      <th>V8</th>\n",
       "      <th>V9</th>\n",
       "      <th>V10</th>\n",
       "      <th>...</th>\n",
       "      <th>V22</th>\n",
       "      <th>V23</th>\n",
       "      <th>V24</th>\n",
       "      <th>V25</th>\n",
       "      <th>V26</th>\n",
       "      <th>V27</th>\n",
       "      <th>V28</th>\n",
       "      <th>Class</th>\n",
       "      <th>Time</th>\n",
       "      <th>Amount</th>\n",
       "    </tr>\n",
       "  </thead>\n",
       "  <tbody>\n",
       "    <tr>\n",
       "      <th>0</th>\n",
       "      <td>-1.359807</td>\n",
       "      <td>-0.072781</td>\n",
       "      <td>2.536347</td>\n",
       "      <td>1.378155</td>\n",
       "      <td>-0.338321</td>\n",
       "      <td>0.462388</td>\n",
       "      <td>0.239599</td>\n",
       "      <td>0.098698</td>\n",
       "      <td>0.363787</td>\n",
       "      <td>0.090794</td>\n",
       "      <td>...</td>\n",
       "      <td>0.277838</td>\n",
       "      <td>-0.110474</td>\n",
       "      <td>0.066928</td>\n",
       "      <td>0.128539</td>\n",
       "      <td>-0.189115</td>\n",
       "      <td>0.133558</td>\n",
       "      <td>-0.021053</td>\n",
       "      <td>0</td>\n",
       "      <td>-1.996583</td>\n",
       "      <td>0.244964</td>\n",
       "    </tr>\n",
       "    <tr>\n",
       "      <th>1</th>\n",
       "      <td>1.191857</td>\n",
       "      <td>0.266151</td>\n",
       "      <td>0.166480</td>\n",
       "      <td>0.448154</td>\n",
       "      <td>0.060018</td>\n",
       "      <td>-0.082361</td>\n",
       "      <td>-0.078803</td>\n",
       "      <td>0.085102</td>\n",
       "      <td>-0.255425</td>\n",
       "      <td>-0.166974</td>\n",
       "      <td>...</td>\n",
       "      <td>-0.638672</td>\n",
       "      <td>0.101288</td>\n",
       "      <td>-0.339846</td>\n",
       "      <td>0.167170</td>\n",
       "      <td>0.125895</td>\n",
       "      <td>-0.008983</td>\n",
       "      <td>0.014724</td>\n",
       "      <td>0</td>\n",
       "      <td>-1.996583</td>\n",
       "      <td>-0.342475</td>\n",
       "    </tr>\n",
       "    <tr>\n",
       "      <th>2</th>\n",
       "      <td>-1.358354</td>\n",
       "      <td>-1.340163</td>\n",
       "      <td>1.773209</td>\n",
       "      <td>0.379780</td>\n",
       "      <td>-0.503198</td>\n",
       "      <td>1.800499</td>\n",
       "      <td>0.791461</td>\n",
       "      <td>0.247676</td>\n",
       "      <td>-1.514654</td>\n",
       "      <td>0.207643</td>\n",
       "      <td>...</td>\n",
       "      <td>0.771679</td>\n",
       "      <td>0.909412</td>\n",
       "      <td>-0.689281</td>\n",
       "      <td>-0.327642</td>\n",
       "      <td>-0.139097</td>\n",
       "      <td>-0.055353</td>\n",
       "      <td>-0.059752</td>\n",
       "      <td>0</td>\n",
       "      <td>-1.996562</td>\n",
       "      <td>1.160686</td>\n",
       "    </tr>\n",
       "    <tr>\n",
       "      <th>3</th>\n",
       "      <td>-0.966272</td>\n",
       "      <td>-0.185226</td>\n",
       "      <td>1.792993</td>\n",
       "      <td>-0.863291</td>\n",
       "      <td>-0.010309</td>\n",
       "      <td>1.247203</td>\n",
       "      <td>0.237609</td>\n",
       "      <td>0.377436</td>\n",
       "      <td>-1.387024</td>\n",
       "      <td>-0.054952</td>\n",
       "      <td>...</td>\n",
       "      <td>0.005274</td>\n",
       "      <td>-0.190321</td>\n",
       "      <td>-1.175575</td>\n",
       "      <td>0.647376</td>\n",
       "      <td>-0.221929</td>\n",
       "      <td>0.062723</td>\n",
       "      <td>0.061458</td>\n",
       "      <td>0</td>\n",
       "      <td>-1.996562</td>\n",
       "      <td>0.140534</td>\n",
       "    </tr>\n",
       "    <tr>\n",
       "      <th>4</th>\n",
       "      <td>-1.158233</td>\n",
       "      <td>0.877737</td>\n",
       "      <td>1.548718</td>\n",
       "      <td>0.403034</td>\n",
       "      <td>-0.407193</td>\n",
       "      <td>0.095921</td>\n",
       "      <td>0.592941</td>\n",
       "      <td>-0.270533</td>\n",
       "      <td>0.817739</td>\n",
       "      <td>0.753074</td>\n",
       "      <td>...</td>\n",
       "      <td>0.798278</td>\n",
       "      <td>-0.137458</td>\n",
       "      <td>0.141267</td>\n",
       "      <td>-0.206010</td>\n",
       "      <td>0.502292</td>\n",
       "      <td>0.219422</td>\n",
       "      <td>0.215153</td>\n",
       "      <td>0</td>\n",
       "      <td>-1.996541</td>\n",
       "      <td>-0.073403</td>\n",
       "    </tr>\n",
       "  </tbody>\n",
       "</table>\n",
       "<p>5 rows × 31 columns</p>\n",
       "</div>"
      ],
      "text/plain": [
       "         V1        V2        V3        V4        V5        V6        V7  \\\n",
       "0 -1.359807 -0.072781  2.536347  1.378155 -0.338321  0.462388  0.239599   \n",
       "1  1.191857  0.266151  0.166480  0.448154  0.060018 -0.082361 -0.078803   \n",
       "2 -1.358354 -1.340163  1.773209  0.379780 -0.503198  1.800499  0.791461   \n",
       "3 -0.966272 -0.185226  1.792993 -0.863291 -0.010309  1.247203  0.237609   \n",
       "4 -1.158233  0.877737  1.548718  0.403034 -0.407193  0.095921  0.592941   \n",
       "\n",
       "         V8        V9       V10    ...          V22       V23       V24  \\\n",
       "0  0.098698  0.363787  0.090794    ...     0.277838 -0.110474  0.066928   \n",
       "1  0.085102 -0.255425 -0.166974    ...    -0.638672  0.101288 -0.339846   \n",
       "2  0.247676 -1.514654  0.207643    ...     0.771679  0.909412 -0.689281   \n",
       "3  0.377436 -1.387024 -0.054952    ...     0.005274 -0.190321 -1.175575   \n",
       "4 -0.270533  0.817739  0.753074    ...     0.798278 -0.137458  0.141267   \n",
       "\n",
       "        V25       V26       V27       V28  Class      Time    Amount  \n",
       "0  0.128539 -0.189115  0.133558 -0.021053      0 -1.996583  0.244964  \n",
       "1  0.167170  0.125895 -0.008983  0.014724      0 -1.996583 -0.342475  \n",
       "2 -0.327642 -0.139097 -0.055353 -0.059752      0 -1.996562  1.160686  \n",
       "3  0.647376 -0.221929  0.062723  0.061458      0 -1.996562  0.140534  \n",
       "4 -0.206010  0.502292  0.219422  0.215153      0 -1.996541 -0.073403  \n",
       "\n",
       "[5 rows x 31 columns]"
      ]
     },
     "execution_count": 31,
     "metadata": {},
     "output_type": "execute_result"
    }
   ],
   "source": [
    "credit_v3.head()"
   ]
  },
  {
   "cell_type": "markdown",
   "metadata": {},
   "source": [
    "## Dealing with the imbalance of data"
   ]
  },
  {
   "cell_type": "markdown",
   "metadata": {},
   "source": [
    "### Undersampling the Majority Class"
   ]
  },
  {
   "cell_type": "code",
   "execution_count": 123,
   "metadata": {
    "ExecuteTime": {
     "end_time": "2019-11-09T18:10:04.374986Z",
     "start_time": "2019-11-09T18:10:04.367252Z"
    }
   },
   "outputs": [
    {
     "name": "stdout",
     "output_type": "stream",
     "text": [
      "There are 492 fraudulent casses present\n"
     ]
    }
   ],
   "source": [
    "credit_fraud = credit_v3[credit_v3.Class == 1]\n",
    "print('There are {} fraudulent casses present'.format(credit_fraud.shape[0]))"
   ]
  },
  {
   "cell_type": "code",
   "execution_count": 124,
   "metadata": {
    "ExecuteTime": {
     "end_time": "2019-11-09T18:11:03.523904Z",
     "start_time": "2019-11-09T18:11:03.462115Z"
    }
   },
   "outputs": [],
   "source": [
    "credit_non_fraud = credit_v3[credit_v3.Class == 0]"
   ]
  },
  {
   "cell_type": "code",
   "execution_count": 125,
   "metadata": {
    "ExecuteTime": {
     "end_time": "2019-11-09T18:11:40.205065Z",
     "start_time": "2019-11-09T18:11:40.188384Z"
    }
   },
   "outputs": [],
   "source": [
    "under_sampled_nonfraud = credit_non_fraud.sample(credit_fraud.shape[0],random_state=1)"
   ]
  },
  {
   "cell_type": "code",
   "execution_count": 126,
   "metadata": {
    "ExecuteTime": {
     "end_time": "2019-11-09T18:11:53.278697Z",
     "start_time": "2019-11-09T18:11:53.248460Z"
    }
   },
   "outputs": [
    {
     "data": {
      "text/html": [
       "<div>\n",
       "<style scoped>\n",
       "    .dataframe tbody tr th:only-of-type {\n",
       "        vertical-align: middle;\n",
       "    }\n",
       "\n",
       "    .dataframe tbody tr th {\n",
       "        vertical-align: top;\n",
       "    }\n",
       "\n",
       "    .dataframe thead th {\n",
       "        text-align: right;\n",
       "    }\n",
       "</style>\n",
       "<table border=\"1\" class=\"dataframe\">\n",
       "  <thead>\n",
       "    <tr style=\"text-align: right;\">\n",
       "      <th></th>\n",
       "      <th>V1</th>\n",
       "      <th>V2</th>\n",
       "      <th>V3</th>\n",
       "      <th>V4</th>\n",
       "      <th>V5</th>\n",
       "      <th>V6</th>\n",
       "      <th>V7</th>\n",
       "      <th>V8</th>\n",
       "      <th>V9</th>\n",
       "      <th>V10</th>\n",
       "      <th>...</th>\n",
       "      <th>V22</th>\n",
       "      <th>V23</th>\n",
       "      <th>V24</th>\n",
       "      <th>V25</th>\n",
       "      <th>V26</th>\n",
       "      <th>V27</th>\n",
       "      <th>V28</th>\n",
       "      <th>Class</th>\n",
       "      <th>Time</th>\n",
       "      <th>Amount</th>\n",
       "    </tr>\n",
       "  </thead>\n",
       "  <tbody>\n",
       "    <tr>\n",
       "      <th>106066</th>\n",
       "      <td>0.136174</td>\n",
       "      <td>-1.647766</td>\n",
       "      <td>0.850033</td>\n",
       "      <td>1.576178</td>\n",
       "      <td>-1.569057</td>\n",
       "      <td>-0.106752</td>\n",
       "      <td>0.026632</td>\n",
       "      <td>-0.091738</td>\n",
       "      <td>0.517553</td>\n",
       "      <td>-0.332990</td>\n",
       "      <td>...</td>\n",
       "      <td>0.582371</td>\n",
       "      <td>-0.548530</td>\n",
       "      <td>0.456719</td>\n",
       "      <td>0.202315</td>\n",
       "      <td>-0.314320</td>\n",
       "      <td>-0.018220</td>\n",
       "      <td>0.138062</td>\n",
       "      <td>0</td>\n",
       "      <td>-0.526571</td>\n",
       "      <td>1.805737</td>\n",
       "    </tr>\n",
       "    <tr>\n",
       "      <th>102005</th>\n",
       "      <td>-0.911610</td>\n",
       "      <td>0.680815</td>\n",
       "      <td>1.344329</td>\n",
       "      <td>-0.068517</td>\n",
       "      <td>0.596394</td>\n",
       "      <td>-1.268838</td>\n",
       "      <td>0.769226</td>\n",
       "      <td>-0.134888</td>\n",
       "      <td>-0.247848</td>\n",
       "      <td>-0.551040</td>\n",
       "      <td>...</td>\n",
       "      <td>0.252879</td>\n",
       "      <td>-0.228605</td>\n",
       "      <td>0.360421</td>\n",
       "      <td>0.043382</td>\n",
       "      <td>-0.588531</td>\n",
       "      <td>-0.026174</td>\n",
       "      <td>0.159864</td>\n",
       "      <td>0</td>\n",
       "      <td>-0.564328</td>\n",
       "      <td>-0.325683</td>\n",
       "    </tr>\n",
       "    <tr>\n",
       "      <th>278450</th>\n",
       "      <td>-0.917299</td>\n",
       "      <td>0.860942</td>\n",
       "      <td>1.201170</td>\n",
       "      <td>-0.962314</td>\n",
       "      <td>-0.372495</td>\n",
       "      <td>-0.114847</td>\n",
       "      <td>0.001741</td>\n",
       "      <td>0.699885</td>\n",
       "      <td>-0.040284</td>\n",
       "      <td>-0.737621</td>\n",
       "      <td>...</td>\n",
       "      <td>-0.493530</td>\n",
       "      <td>0.001530</td>\n",
       "      <td>-0.370406</td>\n",
       "      <td>-0.392434</td>\n",
       "      <td>0.304997</td>\n",
       "      <td>0.177416</td>\n",
       "      <td>0.115137</td>\n",
       "      <td>0</td>\n",
       "      <td>1.546013</td>\n",
       "      <td>-0.273308</td>\n",
       "    </tr>\n",
       "    <tr>\n",
       "      <th>120218</th>\n",
       "      <td>1.252596</td>\n",
       "      <td>0.021359</td>\n",
       "      <td>0.044063</td>\n",
       "      <td>0.325909</td>\n",
       "      <td>0.011174</td>\n",
       "      <td>-0.053598</td>\n",
       "      <td>-0.097035</td>\n",
       "      <td>0.013237</td>\n",
       "      <td>0.263268</td>\n",
       "      <td>-0.097356</td>\n",
       "      <td>...</td>\n",
       "      <td>-0.266459</td>\n",
       "      <td>-0.071237</td>\n",
       "      <td>-0.749998</td>\n",
       "      <td>0.389529</td>\n",
       "      <td>0.494047</td>\n",
       "      <td>-0.029793</td>\n",
       "      <td>0.002433</td>\n",
       "      <td>0</td>\n",
       "      <td>-0.401424</td>\n",
       "      <td>-0.282063</td>\n",
       "    </tr>\n",
       "    <tr>\n",
       "      <th>258527</th>\n",
       "      <td>-1.109483</td>\n",
       "      <td>1.061341</td>\n",
       "      <td>1.484072</td>\n",
       "      <td>0.923891</td>\n",
       "      <td>-0.137718</td>\n",
       "      <td>0.816640</td>\n",
       "      <td>0.014252</td>\n",
       "      <td>0.938303</td>\n",
       "      <td>-0.125829</td>\n",
       "      <td>-0.521974</td>\n",
       "      <td>...</td>\n",
       "      <td>-1.369632</td>\n",
       "      <td>-0.020618</td>\n",
       "      <td>0.578319</td>\n",
       "      <td>0.329709</td>\n",
       "      <td>-0.825568</td>\n",
       "      <td>0.209439</td>\n",
       "      <td>0.068794</td>\n",
       "      <td>0</td>\n",
       "      <td>1.345183</td>\n",
       "      <td>-0.255356</td>\n",
       "    </tr>\n",
       "  </tbody>\n",
       "</table>\n",
       "<p>5 rows × 31 columns</p>\n",
       "</div>"
      ],
      "text/plain": [
       "              V1        V2        V3        V4        V5        V6        V7  \\\n",
       "106066  0.136174 -1.647766  0.850033  1.576178 -1.569057 -0.106752  0.026632   \n",
       "102005 -0.911610  0.680815  1.344329 -0.068517  0.596394 -1.268838  0.769226   \n",
       "278450 -0.917299  0.860942  1.201170 -0.962314 -0.372495 -0.114847  0.001741   \n",
       "120218  1.252596  0.021359  0.044063  0.325909  0.011174 -0.053598 -0.097035   \n",
       "258527 -1.109483  1.061341  1.484072  0.923891 -0.137718  0.816640  0.014252   \n",
       "\n",
       "              V8        V9       V10    ...          V22       V23       V24  \\\n",
       "106066 -0.091738  0.517553 -0.332990    ...     0.582371 -0.548530  0.456719   \n",
       "102005 -0.134888 -0.247848 -0.551040    ...     0.252879 -0.228605  0.360421   \n",
       "278450  0.699885 -0.040284 -0.737621    ...    -0.493530  0.001530 -0.370406   \n",
       "120218  0.013237  0.263268 -0.097356    ...    -0.266459 -0.071237 -0.749998   \n",
       "258527  0.938303 -0.125829 -0.521974    ...    -1.369632 -0.020618  0.578319   \n",
       "\n",
       "             V25       V26       V27       V28  Class      Time    Amount  \n",
       "106066  0.202315 -0.314320 -0.018220  0.138062      0 -0.526571  1.805737  \n",
       "102005  0.043382 -0.588531 -0.026174  0.159864      0 -0.564328 -0.325683  \n",
       "278450 -0.392434  0.304997  0.177416  0.115137      0  1.546013 -0.273308  \n",
       "120218  0.389529  0.494047 -0.029793  0.002433      0 -0.401424 -0.282063  \n",
       "258527  0.329709 -0.825568  0.209439  0.068794      0  1.345183 -0.255356  \n",
       "\n",
       "[5 rows x 31 columns]"
      ]
     },
     "execution_count": 126,
     "metadata": {},
     "output_type": "execute_result"
    }
   ],
   "source": [
    "under_sampled_nonfraud.head()"
   ]
  },
  {
   "cell_type": "code",
   "execution_count": 127,
   "metadata": {
    "ExecuteTime": {
     "end_time": "2019-11-09T18:12:41.782359Z",
     "start_time": "2019-11-09T18:12:41.779175Z"
    }
   },
   "outputs": [],
   "source": [
    "# I chose to make an equal dataset of fraud and non fraud, this is because I believe that \n",
    "# it will create an effective training data set as it will have the same amount of each class to lear from\n",
    "\n",
    "# It may cause some issues though since it is a small dataset\n"
   ]
  },
  {
   "cell_type": "code",
   "execution_count": 128,
   "metadata": {
    "ExecuteTime": {
     "end_time": "2019-11-09T18:12:41.976468Z",
     "start_time": "2019-11-09T18:12:41.969760Z"
    }
   },
   "outputs": [],
   "source": [
    "merged_sample = pd.concat([under_sampled_nonfraud, credit_fraud])"
   ]
  },
  {
   "cell_type": "code",
   "execution_count": 129,
   "metadata": {
    "ExecuteTime": {
     "end_time": "2019-11-09T18:12:43.481238Z",
     "start_time": "2019-11-09T18:12:43.452368Z"
    }
   },
   "outputs": [
    {
     "data": {
      "text/html": [
       "<div>\n",
       "<style scoped>\n",
       "    .dataframe tbody tr th:only-of-type {\n",
       "        vertical-align: middle;\n",
       "    }\n",
       "\n",
       "    .dataframe tbody tr th {\n",
       "        vertical-align: top;\n",
       "    }\n",
       "\n",
       "    .dataframe thead th {\n",
       "        text-align: right;\n",
       "    }\n",
       "</style>\n",
       "<table border=\"1\" class=\"dataframe\">\n",
       "  <thead>\n",
       "    <tr style=\"text-align: right;\">\n",
       "      <th></th>\n",
       "      <th>V1</th>\n",
       "      <th>V2</th>\n",
       "      <th>V3</th>\n",
       "      <th>V4</th>\n",
       "      <th>V5</th>\n",
       "      <th>V6</th>\n",
       "      <th>V7</th>\n",
       "      <th>V8</th>\n",
       "      <th>V9</th>\n",
       "      <th>V10</th>\n",
       "      <th>...</th>\n",
       "      <th>V22</th>\n",
       "      <th>V23</th>\n",
       "      <th>V24</th>\n",
       "      <th>V25</th>\n",
       "      <th>V26</th>\n",
       "      <th>V27</th>\n",
       "      <th>V28</th>\n",
       "      <th>Class</th>\n",
       "      <th>Time</th>\n",
       "      <th>Amount</th>\n",
       "    </tr>\n",
       "  </thead>\n",
       "  <tbody>\n",
       "    <tr>\n",
       "      <th>106066</th>\n",
       "      <td>0.136174</td>\n",
       "      <td>-1.647766</td>\n",
       "      <td>0.850033</td>\n",
       "      <td>1.576178</td>\n",
       "      <td>-1.569057</td>\n",
       "      <td>-0.106752</td>\n",
       "      <td>0.026632</td>\n",
       "      <td>-0.091738</td>\n",
       "      <td>0.517553</td>\n",
       "      <td>-0.332990</td>\n",
       "      <td>...</td>\n",
       "      <td>0.582371</td>\n",
       "      <td>-0.548530</td>\n",
       "      <td>0.456719</td>\n",
       "      <td>0.202315</td>\n",
       "      <td>-0.314320</td>\n",
       "      <td>-0.018220</td>\n",
       "      <td>0.138062</td>\n",
       "      <td>0</td>\n",
       "      <td>-0.526571</td>\n",
       "      <td>1.805737</td>\n",
       "    </tr>\n",
       "    <tr>\n",
       "      <th>102005</th>\n",
       "      <td>-0.911610</td>\n",
       "      <td>0.680815</td>\n",
       "      <td>1.344329</td>\n",
       "      <td>-0.068517</td>\n",
       "      <td>0.596394</td>\n",
       "      <td>-1.268838</td>\n",
       "      <td>0.769226</td>\n",
       "      <td>-0.134888</td>\n",
       "      <td>-0.247848</td>\n",
       "      <td>-0.551040</td>\n",
       "      <td>...</td>\n",
       "      <td>0.252879</td>\n",
       "      <td>-0.228605</td>\n",
       "      <td>0.360421</td>\n",
       "      <td>0.043382</td>\n",
       "      <td>-0.588531</td>\n",
       "      <td>-0.026174</td>\n",
       "      <td>0.159864</td>\n",
       "      <td>0</td>\n",
       "      <td>-0.564328</td>\n",
       "      <td>-0.325683</td>\n",
       "    </tr>\n",
       "    <tr>\n",
       "      <th>278450</th>\n",
       "      <td>-0.917299</td>\n",
       "      <td>0.860942</td>\n",
       "      <td>1.201170</td>\n",
       "      <td>-0.962314</td>\n",
       "      <td>-0.372495</td>\n",
       "      <td>-0.114847</td>\n",
       "      <td>0.001741</td>\n",
       "      <td>0.699885</td>\n",
       "      <td>-0.040284</td>\n",
       "      <td>-0.737621</td>\n",
       "      <td>...</td>\n",
       "      <td>-0.493530</td>\n",
       "      <td>0.001530</td>\n",
       "      <td>-0.370406</td>\n",
       "      <td>-0.392434</td>\n",
       "      <td>0.304997</td>\n",
       "      <td>0.177416</td>\n",
       "      <td>0.115137</td>\n",
       "      <td>0</td>\n",
       "      <td>1.546013</td>\n",
       "      <td>-0.273308</td>\n",
       "    </tr>\n",
       "    <tr>\n",
       "      <th>120218</th>\n",
       "      <td>1.252596</td>\n",
       "      <td>0.021359</td>\n",
       "      <td>0.044063</td>\n",
       "      <td>0.325909</td>\n",
       "      <td>0.011174</td>\n",
       "      <td>-0.053598</td>\n",
       "      <td>-0.097035</td>\n",
       "      <td>0.013237</td>\n",
       "      <td>0.263268</td>\n",
       "      <td>-0.097356</td>\n",
       "      <td>...</td>\n",
       "      <td>-0.266459</td>\n",
       "      <td>-0.071237</td>\n",
       "      <td>-0.749998</td>\n",
       "      <td>0.389529</td>\n",
       "      <td>0.494047</td>\n",
       "      <td>-0.029793</td>\n",
       "      <td>0.002433</td>\n",
       "      <td>0</td>\n",
       "      <td>-0.401424</td>\n",
       "      <td>-0.282063</td>\n",
       "    </tr>\n",
       "    <tr>\n",
       "      <th>258527</th>\n",
       "      <td>-1.109483</td>\n",
       "      <td>1.061341</td>\n",
       "      <td>1.484072</td>\n",
       "      <td>0.923891</td>\n",
       "      <td>-0.137718</td>\n",
       "      <td>0.816640</td>\n",
       "      <td>0.014252</td>\n",
       "      <td>0.938303</td>\n",
       "      <td>-0.125829</td>\n",
       "      <td>-0.521974</td>\n",
       "      <td>...</td>\n",
       "      <td>-1.369632</td>\n",
       "      <td>-0.020618</td>\n",
       "      <td>0.578319</td>\n",
       "      <td>0.329709</td>\n",
       "      <td>-0.825568</td>\n",
       "      <td>0.209439</td>\n",
       "      <td>0.068794</td>\n",
       "      <td>0</td>\n",
       "      <td>1.345183</td>\n",
       "      <td>-0.255356</td>\n",
       "    </tr>\n",
       "  </tbody>\n",
       "</table>\n",
       "<p>5 rows × 31 columns</p>\n",
       "</div>"
      ],
      "text/plain": [
       "              V1        V2        V3        V4        V5        V6        V7  \\\n",
       "106066  0.136174 -1.647766  0.850033  1.576178 -1.569057 -0.106752  0.026632   \n",
       "102005 -0.911610  0.680815  1.344329 -0.068517  0.596394 -1.268838  0.769226   \n",
       "278450 -0.917299  0.860942  1.201170 -0.962314 -0.372495 -0.114847  0.001741   \n",
       "120218  1.252596  0.021359  0.044063  0.325909  0.011174 -0.053598 -0.097035   \n",
       "258527 -1.109483  1.061341  1.484072  0.923891 -0.137718  0.816640  0.014252   \n",
       "\n",
       "              V8        V9       V10    ...          V22       V23       V24  \\\n",
       "106066 -0.091738  0.517553 -0.332990    ...     0.582371 -0.548530  0.456719   \n",
       "102005 -0.134888 -0.247848 -0.551040    ...     0.252879 -0.228605  0.360421   \n",
       "278450  0.699885 -0.040284 -0.737621    ...    -0.493530  0.001530 -0.370406   \n",
       "120218  0.013237  0.263268 -0.097356    ...    -0.266459 -0.071237 -0.749998   \n",
       "258527  0.938303 -0.125829 -0.521974    ...    -1.369632 -0.020618  0.578319   \n",
       "\n",
       "             V25       V26       V27       V28  Class      Time    Amount  \n",
       "106066  0.202315 -0.314320 -0.018220  0.138062      0 -0.526571  1.805737  \n",
       "102005  0.043382 -0.588531 -0.026174  0.159864      0 -0.564328 -0.325683  \n",
       "278450 -0.392434  0.304997  0.177416  0.115137      0  1.546013 -0.273308  \n",
       "120218  0.389529  0.494047 -0.029793  0.002433      0 -0.401424 -0.282063  \n",
       "258527  0.329709 -0.825568  0.209439  0.068794      0  1.345183 -0.255356  \n",
       "\n",
       "[5 rows x 31 columns]"
      ]
     },
     "execution_count": 129,
     "metadata": {},
     "output_type": "execute_result"
    }
   ],
   "source": [
    "merged_sample.head()"
   ]
  },
  {
   "cell_type": "code",
   "execution_count": 130,
   "metadata": {
    "ExecuteTime": {
     "end_time": "2019-11-09T18:12:44.186950Z",
     "start_time": "2019-11-09T18:12:44.180253Z"
    }
   },
   "outputs": [],
   "source": [
    "# Frac=1 is necessary to shuffle the data set\n",
    "new_train = merged_sampled.sample(frac=1, random_state=1).reset_index(drop=True)"
   ]
  },
  {
   "cell_type": "code",
   "execution_count": 131,
   "metadata": {
    "ExecuteTime": {
     "end_time": "2019-11-09T18:12:44.464258Z",
     "start_time": "2019-11-09T18:12:44.440782Z"
    }
   },
   "outputs": [
    {
     "data": {
      "text/html": [
       "<div>\n",
       "<style scoped>\n",
       "    .dataframe tbody tr th:only-of-type {\n",
       "        vertical-align: middle;\n",
       "    }\n",
       "\n",
       "    .dataframe tbody tr th {\n",
       "        vertical-align: top;\n",
       "    }\n",
       "\n",
       "    .dataframe thead th {\n",
       "        text-align: right;\n",
       "    }\n",
       "</style>\n",
       "<table border=\"1\" class=\"dataframe\">\n",
       "  <thead>\n",
       "    <tr style=\"text-align: right;\">\n",
       "      <th></th>\n",
       "      <th>V1</th>\n",
       "      <th>V2</th>\n",
       "      <th>V3</th>\n",
       "      <th>V4</th>\n",
       "      <th>V5</th>\n",
       "      <th>V6</th>\n",
       "      <th>V7</th>\n",
       "      <th>V8</th>\n",
       "      <th>V9</th>\n",
       "      <th>V10</th>\n",
       "      <th>...</th>\n",
       "      <th>V22</th>\n",
       "      <th>V23</th>\n",
       "      <th>V24</th>\n",
       "      <th>V25</th>\n",
       "      <th>V26</th>\n",
       "      <th>V27</th>\n",
       "      <th>V28</th>\n",
       "      <th>Class</th>\n",
       "      <th>Time</th>\n",
       "      <th>Amount</th>\n",
       "    </tr>\n",
       "  </thead>\n",
       "  <tbody>\n",
       "    <tr>\n",
       "      <th>0</th>\n",
       "      <td>-0.331559</td>\n",
       "      <td>0.370607</td>\n",
       "      <td>2.473165</td>\n",
       "      <td>0.174584</td>\n",
       "      <td>-0.949222</td>\n",
       "      <td>-0.038162</td>\n",
       "      <td>-0.202166</td>\n",
       "      <td>0.221591</td>\n",
       "      <td>0.344606</td>\n",
       "      <td>-0.612057</td>\n",
       "      <td>...</td>\n",
       "      <td>0.412592</td>\n",
       "      <td>0.060717</td>\n",
       "      <td>0.688811</td>\n",
       "      <td>-0.849639</td>\n",
       "      <td>1.058655</td>\n",
       "      <td>0.129225</td>\n",
       "      <td>0.144996</td>\n",
       "      <td>0</td>\n",
       "      <td>-0.818961</td>\n",
       "      <td>-0.313249</td>\n",
       "    </tr>\n",
       "    <tr>\n",
       "      <th>1</th>\n",
       "      <td>-0.937843</td>\n",
       "      <td>3.462889</td>\n",
       "      <td>-6.445104</td>\n",
       "      <td>4.932199</td>\n",
       "      <td>-2.233983</td>\n",
       "      <td>-2.291561</td>\n",
       "      <td>-5.695594</td>\n",
       "      <td>1.338825</td>\n",
       "      <td>-4.322377</td>\n",
       "      <td>-8.099119</td>\n",
       "      <td>...</td>\n",
       "      <td>-0.521657</td>\n",
       "      <td>-0.319917</td>\n",
       "      <td>-0.405859</td>\n",
       "      <td>0.906802</td>\n",
       "      <td>1.165784</td>\n",
       "      <td>1.374495</td>\n",
       "      <td>0.729889</td>\n",
       "      <td>1</td>\n",
       "      <td>-0.223422</td>\n",
       "      <td>-0.353229</td>\n",
       "    </tr>\n",
       "    <tr>\n",
       "      <th>2</th>\n",
       "      <td>-4.771459</td>\n",
       "      <td>-1.538324</td>\n",
       "      <td>-0.797145</td>\n",
       "      <td>-3.712491</td>\n",
       "      <td>0.662472</td>\n",
       "      <td>0.720140</td>\n",
       "      <td>-0.032715</td>\n",
       "      <td>1.183083</td>\n",
       "      <td>2.648526</td>\n",
       "      <td>-1.274181</td>\n",
       "      <td>...</td>\n",
       "      <td>-1.059825</td>\n",
       "      <td>-0.308100</td>\n",
       "      <td>-0.994593</td>\n",
       "      <td>0.859815</td>\n",
       "      <td>-1.222967</td>\n",
       "      <td>0.149995</td>\n",
       "      <td>0.589533</td>\n",
       "      <td>0</td>\n",
       "      <td>1.151345</td>\n",
       "      <td>0.077764</td>\n",
       "    </tr>\n",
       "    <tr>\n",
       "      <th>3</th>\n",
       "      <td>-2.434004</td>\n",
       "      <td>3.225947</td>\n",
       "      <td>-6.596282</td>\n",
       "      <td>3.593161</td>\n",
       "      <td>-1.079452</td>\n",
       "      <td>-1.739741</td>\n",
       "      <td>-0.047420</td>\n",
       "      <td>0.301424</td>\n",
       "      <td>-1.779434</td>\n",
       "      <td>-5.836453</td>\n",
       "      <td>...</td>\n",
       "      <td>-0.419178</td>\n",
       "      <td>0.157436</td>\n",
       "      <td>-0.714849</td>\n",
       "      <td>0.468859</td>\n",
       "      <td>-0.348522</td>\n",
       "      <td>0.420036</td>\n",
       "      <td>-0.327643</td>\n",
       "      <td>1</td>\n",
       "      <td>0.735977</td>\n",
       "      <td>1.096277</td>\n",
       "    </tr>\n",
       "    <tr>\n",
       "      <th>4</th>\n",
       "      <td>-3.705856</td>\n",
       "      <td>4.107873</td>\n",
       "      <td>-3.803656</td>\n",
       "      <td>1.710314</td>\n",
       "      <td>-3.582466</td>\n",
       "      <td>1.469729</td>\n",
       "      <td>-9.621560</td>\n",
       "      <td>-11.913105</td>\n",
       "      <td>-0.322297</td>\n",
       "      <td>-6.625692</td>\n",
       "      <td>...</td>\n",
       "      <td>2.941475</td>\n",
       "      <td>0.916236</td>\n",
       "      <td>-0.255504</td>\n",
       "      <td>-0.183835</td>\n",
       "      <td>-0.584539</td>\n",
       "      <td>-0.315484</td>\n",
       "      <td>-0.097223</td>\n",
       "      <td>1</td>\n",
       "      <td>0.040076</td>\n",
       "      <td>-0.349231</td>\n",
       "    </tr>\n",
       "  </tbody>\n",
       "</table>\n",
       "<p>5 rows × 31 columns</p>\n",
       "</div>"
      ],
      "text/plain": [
       "         V1        V2        V3        V4        V5        V6        V7  \\\n",
       "0 -0.331559  0.370607  2.473165  0.174584 -0.949222 -0.038162 -0.202166   \n",
       "1 -0.937843  3.462889 -6.445104  4.932199 -2.233983 -2.291561 -5.695594   \n",
       "2 -4.771459 -1.538324 -0.797145 -3.712491  0.662472  0.720140 -0.032715   \n",
       "3 -2.434004  3.225947 -6.596282  3.593161 -1.079452 -1.739741 -0.047420   \n",
       "4 -3.705856  4.107873 -3.803656  1.710314 -3.582466  1.469729 -9.621560   \n",
       "\n",
       "          V8        V9       V10    ...          V22       V23       V24  \\\n",
       "0   0.221591  0.344606 -0.612057    ...     0.412592  0.060717  0.688811   \n",
       "1   1.338825 -4.322377 -8.099119    ...    -0.521657 -0.319917 -0.405859   \n",
       "2   1.183083  2.648526 -1.274181    ...    -1.059825 -0.308100 -0.994593   \n",
       "3   0.301424 -1.779434 -5.836453    ...    -0.419178  0.157436 -0.714849   \n",
       "4 -11.913105 -0.322297 -6.625692    ...     2.941475  0.916236 -0.255504   \n",
       "\n",
       "        V25       V26       V27       V28  Class      Time    Amount  \n",
       "0 -0.849639  1.058655  0.129225  0.144996      0 -0.818961 -0.313249  \n",
       "1  0.906802  1.165784  1.374495  0.729889      1 -0.223422 -0.353229  \n",
       "2  0.859815 -1.222967  0.149995  0.589533      0  1.151345  0.077764  \n",
       "3  0.468859 -0.348522  0.420036 -0.327643      1  0.735977  1.096277  \n",
       "4 -0.183835 -0.584539 -0.315484 -0.097223      1  0.040076 -0.349231  \n",
       "\n",
       "[5 rows x 31 columns]"
      ]
     },
     "execution_count": 131,
     "metadata": {},
     "output_type": "execute_result"
    }
   ],
   "source": [
    "new_train.head()"
   ]
  },
  {
   "cell_type": "code",
   "execution_count": 132,
   "metadata": {
    "ExecuteTime": {
     "end_time": "2019-11-09T18:12:45.047144Z",
     "start_time": "2019-11-09T18:12:44.712996Z"
    }
   },
   "outputs": [
    {
     "data": {
      "text/plain": [
       "<matplotlib.axes._subplots.AxesSubplot at 0x1a35ea2da0>"
      ]
     },
     "execution_count": 132,
     "metadata": {},
     "output_type": "execute_result"
    },
    {
     "data": {
      "image/png": "[encoded data removed]",
      "text/plain": [
       "<Figure size 432x288 with 2 Axes>"
      ]
     },
     "metadata": {
      "needs_background": "light"
     },
     "output_type": "display_data"
    }
   ],
   "source": [
    "# This is a bit harder to intepret due to there being more areas of interest to look into\n",
    "sns.heatmap(new_train.corr())"
   ]
  },
  {
   "cell_type": "code",
   "execution_count": 133,
   "metadata": {
    "ExecuteTime": {
     "end_time": "2019-11-09T18:12:45.071851Z",
     "start_time": "2019-11-09T18:12:45.051241Z"
    }
   },
   "outputs": [],
   "source": [
    "# Taking a look at the correlation of the equal dataset\n",
    "train_cor = new_train.corr()"
   ]
  },
  {
   "cell_type": "code",
   "execution_count": 134,
   "metadata": {
    "ExecuteTime": {
     "end_time": "2019-11-09T18:12:45.086106Z",
     "start_time": "2019-11-09T18:12:45.074578Z"
    }
   },
   "outputs": [],
   "source": [
    "train_cor = train_cor[['Class']]"
   ]
  },
  {
   "cell_type": "code",
   "execution_count": 135,
   "metadata": {
    "ExecuteTime": {
     "end_time": "2019-11-09T18:12:45.230036Z",
     "start_time": "2019-11-09T18:12:45.217210Z"
    }
   },
   "outputs": [
    {
     "data": {
      "text/html": [
       "<div>\n",
       "<style scoped>\n",
       "    .dataframe tbody tr th:only-of-type {\n",
       "        vertical-align: middle;\n",
       "    }\n",
       "\n",
       "    .dataframe tbody tr th {\n",
       "        vertical-align: top;\n",
       "    }\n",
       "\n",
       "    .dataframe thead th {\n",
       "        text-align: right;\n",
       "    }\n",
       "</style>\n",
       "<table border=\"1\" class=\"dataframe\">\n",
       "  <thead>\n",
       "    <tr style=\"text-align: right;\">\n",
       "      <th></th>\n",
       "      <th>Class</th>\n",
       "    </tr>\n",
       "  </thead>\n",
       "  <tbody>\n",
       "    <tr>\n",
       "      <th>V4</th>\n",
       "      <td>0.706471</td>\n",
       "    </tr>\n",
       "    <tr>\n",
       "      <th>V11</th>\n",
       "      <td>0.680220</td>\n",
       "    </tr>\n",
       "    <tr>\n",
       "      <th>Class</th>\n",
       "      <td>1.000000</td>\n",
       "    </tr>\n",
       "  </tbody>\n",
       "</table>\n",
       "</div>"
      ],
      "text/plain": [
       "          Class\n",
       "V4     0.706471\n",
       "V11    0.680220\n",
       "Class  1.000000"
      ]
     },
     "execution_count": 135,
     "metadata": {},
     "output_type": "execute_result"
    }
   ],
   "source": [
    "# Variables with High Positive Correlation -- Class is ignored\n",
    "train_cor[train_cor.Class > .5]"
   ]
  },
  {
   "cell_type": "code",
   "execution_count": 136,
   "metadata": {
    "ExecuteTime": {
     "end_time": "2019-11-09T18:12:45.507757Z",
     "start_time": "2019-11-09T18:12:45.491907Z"
    }
   },
   "outputs": [
    {
     "data": {
      "text/html": [
       "<div>\n",
       "<style scoped>\n",
       "    .dataframe tbody tr th:only-of-type {\n",
       "        vertical-align: middle;\n",
       "    }\n",
       "\n",
       "    .dataframe tbody tr th {\n",
       "        vertical-align: top;\n",
       "    }\n",
       "\n",
       "    .dataframe thead th {\n",
       "        text-align: right;\n",
       "    }\n",
       "</style>\n",
       "<table border=\"1\" class=\"dataframe\">\n",
       "  <thead>\n",
       "    <tr style=\"text-align: right;\">\n",
       "      <th></th>\n",
       "      <th>Class</th>\n",
       "    </tr>\n",
       "  </thead>\n",
       "  <tbody>\n",
       "    <tr>\n",
       "      <th>V3</th>\n",
       "      <td>-0.569128</td>\n",
       "    </tr>\n",
       "    <tr>\n",
       "      <th>V9</th>\n",
       "      <td>-0.543086</td>\n",
       "    </tr>\n",
       "    <tr>\n",
       "      <th>V10</th>\n",
       "      <td>-0.624179</td>\n",
       "    </tr>\n",
       "    <tr>\n",
       "      <th>V12</th>\n",
       "      <td>-0.685396</td>\n",
       "    </tr>\n",
       "    <tr>\n",
       "      <th>V14</th>\n",
       "      <td>-0.748386</td>\n",
       "    </tr>\n",
       "    <tr>\n",
       "      <th>V16</th>\n",
       "      <td>-0.600250</td>\n",
       "    </tr>\n",
       "    <tr>\n",
       "      <th>V17</th>\n",
       "      <td>-0.566007</td>\n",
       "    </tr>\n",
       "  </tbody>\n",
       "</table>\n",
       "</div>"
      ],
      "text/plain": [
       "        Class\n",
       "V3  -0.569128\n",
       "V9  -0.543086\n",
       "V10 -0.624179\n",
       "V12 -0.685396\n",
       "V14 -0.748386\n",
       "V16 -0.600250\n",
       "V17 -0.566007"
      ]
     },
     "execution_count": 136,
     "metadata": {},
     "output_type": "execute_result"
    }
   ],
   "source": [
    "# Variables with High Negative Correlation \n",
    "train_cor[train_cor.Class < -.5]"
   ]
  },
  {
   "cell_type": "code",
   "execution_count": 137,
   "metadata": {
    "ExecuteTime": {
     "end_time": "2019-11-09T18:12:47.142862Z",
     "start_time": "2019-11-09T18:12:45.686034Z"
    }
   },
   "outputs": [
    {
     "data": {
      "image/png": "[encoded data removed]",
      "text/plain": [
       "<Figure size 432x288 with 1 Axes>"
      ]
     },
     "metadata": {
      "needs_background": "light"
     },
     "output_type": "display_data"
    },
    {
     "data": {
      "image/png": "[encoded data removed]",
      "text/plain": [
       "<Figure size 432x288 with 1 Axes>"
      ]
     },
     "metadata": {
      "needs_background": "light"
     },
     "output_type": "display_data"
    },
    {
     "data": {
      "image/png": "[encoded data removed]",
      "text/plain": [
       "<Figure size 432x288 with 1 Axes>"
      ]
     },
     "metadata": {
      "needs_background": "light"
     },
     "output_type": "display_data"
    },
    {
     "data": {
      "image/png": "[encoded data removed]",
      "text/plain": [
       "<Figure size 432x288 with 1 Axes>"
      ]
     },
     "metadata": {
      "needs_background": "light"
     },
     "output_type": "display_data"
    },
    {
     "data": {
      "image/png": "[encoded data removed]",
      "text/plain": [
       "<Figure size 432x288 with 1 Axes>"
      ]
     },
     "metadata": {
      "needs_background": "light"
     },
     "output_type": "display_data"
    },
    {
     "data": {
      "image/png": "[encoded data removed]",
      "text/plain": [
       "<Figure size 432x288 with 1 Axes>"
      ]
     },
     "metadata": {
      "needs_background": "light"
     },
     "output_type": "display_data"
    },
    {
     "data": {
      "image/png": "[encoded data removed]",
      "text/plain": [
       "<Figure size 432x288 with 1 Axes>"
      ]
     },
     "metadata": {
      "needs_background": "light"
     },
     "output_type": "display_data"
    },
    {
     "data": {
      "image/png": "[encoded data removed]",
      "text/plain": [
       "<Figure size 432x288 with 1 Axes>"
      ]
     },
     "metadata": {
      "needs_background": "light"
     },
     "output_type": "display_data"
    },
    {
     "data": {
      "image/png": "[encoded data removed]",
      "text/plain": [
       "<Figure size 432x288 with 1 Axes>"
      ]
     },
     "metadata": {
      "needs_background": "light"
     },
     "output_type": "display_data"
    }
   ],
   "source": [
    "# I will visualise all of these variables.\n",
    "var = ['V4','V11','V3','V9','V10','V12','V14','V16','V17']\n",
    "\n",
    "for a in var:\n",
    "    sns.boxplot(x = 'Class', y = a, data=new_train, );\n",
    " \n",
    "    plt.show()"
   ]
  },
  {
   "cell_type": "code",
   "execution_count": 138,
   "metadata": {
    "ExecuteTime": {
     "end_time": "2019-11-09T18:12:47.151804Z",
     "start_time": "2019-11-09T18:12:47.146224Z"
    }
   },
   "outputs": [],
   "source": [
    "# From the above graphs some clear outliers can be seen, namely n V17, V14, V10, V3, "
   ]
  },
  {
   "cell_type": "code",
   "execution_count": null,
   "metadata": {},
   "outputs": [],
   "source": [
    "# I will remove any extreme outliers"
   ]
  },
  {
   "cell_type": "code",
   "execution_count": null,
   "metadata": {},
   "outputs": [],
   "source": []
  }
 ],
 "metadata": {
  "kernelspec": {
   "display_name": "Python 3",
   "language": "python",
   "name": "python3"
  },
  "language_info": {
   "codemirror_mode": {
    "name": "ipython",
    "version": 3
   },
   "file_extension": ".py",
   "mimetype": "text/x-python",
   "name": "python",
   "nbconvert_exporter": "python",
   "pygments_lexer": "ipython3",
   "version": "3.7.1"
  }
 },
 "nbformat": 4,
 "nbformat_minor": 2
}
